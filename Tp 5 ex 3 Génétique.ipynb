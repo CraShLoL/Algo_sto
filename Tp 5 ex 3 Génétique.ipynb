{
 "cells": [
  {
   "cell_type": "markdown",
   "metadata": {},
   "source": [
    "# TP 5 - exercice 3"
   ]
  },
  {
   "cell_type": "markdown",
   "metadata": {},
   "source": [
    "E = espace des suites de longueur $d$ composées de 0 et de 1 \n",
    "\n",
    "$$f : E \\mapsto \\mathbb{R}^+$$\n",
    "\n",
    "$$X_n^1 = [0,1,1,0,...,1, 0]$$\n",
    " \n",
    "$$X_n^2 = [1,1,0,0,...,1, 1]$$\n",
    " \n",
    "$$ ...$$\n",
    " \n",
    "$$X_n^M = [0,0,1,1,...,0, 0]$$"
   ]
  },
  {
   "cell_type": "markdown",
   "metadata": {},
   "source": [
    "$$ X_n \\stackrel{\\text{mutation}}{\\longrightarrow} Y\n",
    "\\stackrel{\\text{croisement}}{\\longrightarrow} Z\n",
    "\\stackrel{\\text{selection}}{\\longrightarrow} X_{n+1}\n",
    "$$"
   ]
  },
  {
   "cell_type": "markdown",
   "metadata": {},
   "source": [
    "Dans ce cas le probabilité de choisir l'inividu z1 est:\n",
    "\n",
    "$$ \\frac{f(z_i)}{f(z_1) + \\cdots + f(z_M)} $$\n",
    " \n",
    " \n",
    " \n",
    "Mais on peut choisir d'autres probabilités, par exemple propotionnelles au *rang* de l'individu dans le calssement de l'adaptation. Ou encore faire un choix cohérent avec le recuit simulé ou la probabilité est :\n",
    "\n",
    "$$ \\frac{​​​​\\exp(k\\ f(z_i))}{​​​​\\exp(k\\ f(z_1)) + \\cdots + \\exp(k\\ f(z_M))}​​​​ $$\n",
    "où le paramètre $k$ joue le role de l'inverse de température $k=1/T$\n",
    ".\n",
    "\n",
    "\n",
    "\n"
   ]
  },
  {
   "cell_type": "markdown",
   "metadata": {},
   "source": [
    "## Exercice 3 : sac à dos\n"
   ]
  },
  {
   "cell_type": "code",
   "execution_count": 1,
   "metadata": {},
   "outputs": [],
   "source": [
    "import numpy as np\n",
    "import matplotlib.pyplot as plt\n",
    "from numpy.random import rand,randint"
   ]
  },
  {
   "cell_type": "code",
   "execution_count": 2,
   "metadata": {},
   "outputs": [],
   "source": [
    "n_items = 25\n",
    "max_val = 30 # valeur maximal d'un item\n",
    "max_poids = 20 # poids max d'un item"
   ]
  },
  {
   "cell_type": "code",
   "execution_count": 3,
   "metadata": {},
   "outputs": [
    {
     "name": "stdout",
     "output_type": "stream",
     "text": [
      "poids [19 14 15  4  1 18 11 10 19 10  6 14  4 11 12  7  2  7 10  7  9 15 13  8\n",
      " 10]\n",
      "valeurs [15  4 15  8 23 15 25 20  5 29  3 12 21 15  8 13 22 20  5 11 21 28  9 15\n",
      " 24]\n"
     ]
    }
   ],
   "source": [
    "#Collection d'objets \n",
    "poids = randint(0,max_poids,n_items)\n",
    "valeurs = randint(0,max_val,n_items)\n",
    "print(\"poids\",poids)\n",
    "print(\"valeurs\",valeurs)"
   ]
  },
  {
   "cell_type": "code",
   "execution_count": 4,
   "metadata": {},
   "outputs": [
    {
     "data": {
      "text/plain": [
       "250"
      ]
     },
     "execution_count": 4,
     "metadata": {},
     "output_type": "execute_result"
    }
   ],
   "source": [
    "# poids maximale pour le sac à dos\n",
    "PM = 10 * n_items\n",
    "PM "
   ]
  },
  {
   "cell_type": "code",
   "execution_count": 5,
   "metadata": {},
   "outputs": [],
   "source": [
    "#Taille de population (M)\n",
    "taille_pop = 70 \n",
    "\n",
    "# proba de mutation \n",
    "# en moyenne, 1 individu sur 3 aura une coeff modifié\n",
    "proba_mut = 1 / n_items / 3\n",
    "\n",
    "#nombre de générations = 300"
   ]
  },
  {
   "cell_type": "code",
   "execution_count": 6,
   "metadata": {},
   "outputs": [],
   "source": [
    "def fitness(individu):\n",
    "    # individu x = (x_0,x_1,...,x_n) : tableau de 0 et de 1, de longueur n_items\n",
    "    # fitness est le somme de x_i *v_i\n",
    "    # mais fitness vaut 0 si la somme de poids dépasse PM du sac à dos\n",
    "    poids_total = individu.dot(poids) # dot = produit scalaire \n",
    "    val_total = individu.dot(valeurs)\n",
    "    if poids_total <= PM :\n",
    "        return val_total\n",
    "    else:\n",
    "        return 0"
   ]
  },
  {
   "cell_type": "code",
   "execution_count": 7,
   "metadata": {},
   "outputs": [
    {
     "name": "stdout",
     "output_type": "stream",
     "text": [
      "[0 0 0 1 1 1 1 1 1 1 0 0 1 0 1 0 1 1 1 1 1 1 0 1 1]\n",
      "300\n"
     ]
    }
   ],
   "source": [
    "# test\n",
    "x = randint(0,2,n_items) # individu\n",
    "print(x)\n",
    "print(fitness(x))"
   ]
  },
  {
   "cell_type": "code",
   "execution_count": 8,
   "metadata": {},
   "outputs": [],
   "source": [
    "def population_init():\n",
    "    # Population initial se compose d'individus tirés au hasard\n",
    "    return [randint(0,2,n_items) for _ in range(taille_pop)]"
   ]
  },
  {
   "cell_type": "code",
   "execution_count": 9,
   "metadata": {},
   "outputs": [
    {
     "name": "stdout",
     "output_type": "stream",
     "text": [
      "[1 1 1 0 0 0 1 0 0 0 0 0 0 0 1 1 1 0 1 0 0 0 0 1 1]\n",
      "[0 1 1 0 0 1 0 0 1 1 1 0 1 0 1 1 1 0 1 1 1 1 0 1 1]\n",
      "[1 0 1 0 1 0 1 0 0 1 1 0 0 0 0 0 0 1 0 1 0 1 1 1 1]\n",
      "[0 0 0 0 0 1 1 0 0 1 1 0 0 0 1 0 1 1 0 1 1 0 1 1 1]\n",
      "[0 0 0 1 0 1 1 1 0 1 1 1 1 1 0 1 0 0 0 1 0 1 0 0 1]\n"
     ]
    }
   ],
   "source": [
    "# Test \n",
    "a = population_init()\n",
    "for i in range(5):\n",
    "    print(a[i])"
   ]
  },
  {
   "cell_type": "code",
   "execution_count": 10,
   "metadata": {},
   "outputs": [],
   "source": [
    "def mutation(population):\n",
    "    # Change chaque coeff indépendamment avec une petite proba (proba_mut)\n",
    "    for individu in population:\n",
    "        for i in range(n_items):\n",
    "            if rand() < proba_mut:\n",
    "                individu[i] = 1 - individu[i]\n",
    "    # Rien a retourner, la population (des coefficients) on été modifié \"sur place\"\n",
    "    "
   ]
  },
  {
   "cell_type": "code",
   "execution_count": 11,
   "metadata": {},
   "outputs": [
    {
     "name": "stdout",
     "output_type": "stream",
     "text": [
      "[1 1 1 0 0 0 1 0 0 0 0 0 0 0 1 1 1 0 1 0 0 0 0 1 1]\n",
      "[0 1 1 0 0 1 0 0 1 1 1 0 1 0 1 0 1 0 1 1 1 1 0 1 1]\n",
      "[1 0 1 0 1 0 1 0 0 1 1 0 0 0 0 0 0 1 0 1 0 1 1 1 1]\n",
      "[0 0 0 0 0 1 1 0 0 1 1 0 0 0 1 0 1 1 0 1 1 0 1 1 1]\n",
      "[0 0 0 1 0 1 1 1 1 1 1 1 1 0 0 1 0 0 0 1 0 1 0 0 1]\n"
     ]
    }
   ],
   "source": [
    "# Test\n",
    "mutation(a)\n",
    "for i in range(5):\n",
    "    print(a[i])"
   ]
  },
  {
   "cell_type": "code",
   "execution_count": 12,
   "metadata": {},
   "outputs": [],
   "source": [
    "def loi_discrete(p):\n",
    "    #TP 2\n",
    "    F = np.cumsum(p)\n",
    "    i = 0\n",
    "    choix = rand()\n",
    "    while choix > F[i]:\n",
    "        i+=1\n",
    "    return i"
   ]
  },
  {
   "cell_type": "code",
   "execution_count": 13,
   "metadata": {},
   "outputs": [],
   "source": [
    "def cycle_de_vie(pop):\n",
    "    # 1. Mutation\n",
    "    mutation(pop)\n",
    "    \n",
    "    # 2. Croisements (parents = deux individu consécutifs)\n",
    "    enfants = [] \n",
    "    for i in range(taille_pop//2):\n",
    "        parent1 = pop[2*i]\n",
    "        parent2 = pop[2*i+1]\n",
    "        c_ind = randint(0,n_items) # indice de croisement\n",
    "        \n",
    "        enfant1 = np.zeros(n_items,dtype = int)\n",
    "        enfant1[0:c_ind] = parent1[0:c_ind]   \n",
    "        enfant1[c_ind:] = parent2[c_ind:]  \n",
    "        \n",
    "        enfant2 = np.zeros(n_items,dtype = int)\n",
    "        enfant2[0:c_ind] = parent2[0:c_ind]   \n",
    "        enfant2[c_ind:] = parent1[c_ind:]  \n",
    "        \n",
    "        enfants.append(enfant1)\n",
    "        enfants.append(enfant2)\n",
    "        \n",
    "    # 3. Selection\n",
    "    fitness_enf =[fitness(e) for e in enfants]\n",
    "    const_norm = sum(fitness_enf)\n",
    "    # probabilités de selection \n",
    "    proba_sel = [fit/const_norm for fit in fitness_enf]\n",
    "    \n",
    "    # Construction de la génération suivante\n",
    "    #choix avec remise\n",
    "    next_gen = []\n",
    "    for i in range(taille_pop):\n",
    "        k = loi_discrete(proba_sel)\n",
    "        next_gen.append(enfants[k])\n",
    "    return next_gen    "
   ]
  },
  {
   "cell_type": "code",
   "execution_count": 14,
   "metadata": {},
   "outputs": [
    {
     "name": "stdout",
     "output_type": "stream",
     "text": [
      "[1 0 1 0 0 1 1 0 0 1 1 0 0 0 1 0 0 1 0 1 1 0 1 1 1]\n",
      "[0 0 0 0 1 0 0 1 1 0 0 1 0 1 0 1 0 1 1 0 1 0 0 0 1]\n",
      "[1 0 1 0 1 0 0 1 1 1 1 0 1 1 1 0 1 1 1 1 1 1 0 1 1]\n",
      "[1 1 0 1 1 0 0 1 1 1 1 1 0 0 0 1 1 1 0 0 1 1 1 1 0]\n",
      "[0 0 0 1 0 1 1 1 0 0 1 0 0 1 0 1 0 1 1 0 1 1 1 1 1]\n"
     ]
    }
   ],
   "source": [
    "# Test \n",
    "b = cycle_de_vie(a)\n",
    "for i in range(5):\n",
    "    print(b[i])"
   ]
  },
  {
   "cell_type": "markdown",
   "metadata": {},
   "source": [
    "# Evolution"
   ]
  },
  {
   "cell_type": "code",
   "execution_count": 15,
   "metadata": {},
   "outputs": [
    {
     "name": "stdout",
     "output_type": "stream",
     "text": [
      "Génération 0 best fitness 282\n",
      "Génération 500 best fitness 344\n",
      "Génération 1000 best fitness 352\n",
      "Génération 1500 best fitness 347\n",
      "Génération 2000 best fitness 340\n",
      "Génération 2500 best fitness 348\n",
      "Génération 3000 best fitness 334\n",
      "Génération 3500 best fitness 373\n",
      "Génération 4000 best fitness 344\n",
      "Génération 4500 best fitness 362\n",
      "Génération 5000 best fitness 358\n",
      "Génération 5500 best fitness 348\n",
      "Génération 6000 best fitness 366\n",
      "Génération 6500 best fitness 358\n",
      "Génération 7000 best fitness 334\n",
      "Génération 7500 best fitness 327\n",
      "Génération 8000 best fitness 362\n",
      "Génération 8500 best fitness 323\n",
      "Génération 9000 best fitness 358\n",
      "Génération 9500 best fitness 375\n"
     ]
    }
   ],
   "source": [
    "np.random.seed(42)\n",
    "population = population_init()\n",
    "nbr_gen = 10000\n",
    "for i in range(nbr_gen):\n",
    "    population = cycle_de_vie(population)\n",
    "    if i % 500 == 0:\n",
    "        # affiche des résultats partiels\n",
    "        best_fit_this_gen = max([fitness(ind) for ind in population])\n",
    "        print(\"Génération\" ,i ,\"best fitness\",best_fit_this_gen)"
   ]
  },
  {
   "cell_type": "code",
   "execution_count": 16,
   "metadata": {},
   "outputs": [
    {
     "name": "stdout",
     "output_type": "stream",
     "text": [
      "Génération 0 best fitness 282\n",
      "Génération 1 best fitness 296\n",
      "Génération 2 best fitness 318\n",
      "Génération 4 best fitness 328\n",
      "Génération 6 best fitness 341\n",
      "Génération 13 best fitness 342\n",
      "Génération 15 best fitness 368\n",
      "Génération 80 best fitness 371\n",
      "Génération 142 best fitness 373\n",
      "Génération 204 best fitness 378\n",
      "Génération 206 best fitness 381\n",
      "Génération 323 best fitness 383\n"
     ]
    }
   ],
   "source": [
    "np.random.seed(42)\n",
    "population = population_init()\n",
    "nbr_gen = 10000\n",
    "best_fit_ever = 0\n",
    "\n",
    "for i in range(nbr_gen):\n",
    "    population = cycle_de_vie(population)\n",
    "    best_fit_this_gen = max([fitness(ind) for ind in population])\n",
    "    if best_fit_this_gen > best_fit_ever:\n",
    "        best_fit_ever = best_fit_this_gen\n",
    "        print(\"Génération\" ,i ,\"best fitness\",best_fit_this_gen)"
   ]
  },
  {
   "cell_type": "code",
   "execution_count": 17,
   "metadata": {},
   "outputs": [],
   "source": [
    "# Exercice : Trouver l'individu qui a la meilleure fitness"
   ]
  },
  {
   "cell_type": "code",
   "execution_count": 18,
   "metadata": {},
   "outputs": [
    {
     "data": {
      "image/png": "[encoded data removed]",
      "text/plain": [
       "<Figure size 432x288 with 1 Axes>"
      ]
     },
     "metadata": {
      "needs_background": "light"
     },
     "output_type": "display_data"
    }
   ],
   "source": [
    "# Composition de la population \n",
    "pop_tri = sorted(population,key=fitness,reverse =True)\n",
    "distribution_fit = list(map(fitness,pop_tri))\n",
    "plt.plot(distribution_fit)\n",
    "plt.show()"
   ]
  }
 ],
 "metadata": {
  "kernelspec": {
   "display_name": "Python 3",
   "language": "python",
   "name": "python3"
  },
  "language_info": {
   "codemirror_mode": {
    "name": "ipython",
    "version": 3
   },
   "file_extension": ".py",
   "mimetype": "text/x-python",
   "name": "python",
   "nbconvert_exporter": "python",
   "pygments_lexer": "ipython3",
   "version": "3.8.10"
  }
 },
 "nbformat": 4,
 "nbformat_minor": 4
}
